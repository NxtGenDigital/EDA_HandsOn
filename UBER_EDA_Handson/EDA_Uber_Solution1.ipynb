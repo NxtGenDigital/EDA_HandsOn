{
  "nbformat": 4,
  "nbformat_minor": 0,
  "metadata": {
    "kernelspec": {
      "display_name": "Python 3",
      "language": "python",
      "name": "python3"
    },
    "language_info": {
      "codemirror_mode": {
        "name": "ipython",
        "version": 3
      },
      "file_extension": ".py",
      "mimetype": "text/x-python",
      "name": "python",
      "nbconvert_exporter": "python",
      "pygments_lexer": "ipython3",
      "version": "3.7.4"
    },
    "colab": {
      "name": "EDA_Uber_Solution1.ipynb",
      "provenance": []
    }
  },
  "cells": [
    {
      "cell_type": "code",
      "metadata": {
        "id": "asuAPsZdI4tO",
        "colab_type": "code",
        "colab": {
          "base_uri": "https://localhost:8080/",
          "height": 70
        },
        "outputId": "5f3ccc68-f067-454a-c995-47798cab78a3"
      },
      "source": [
        "import pandas as pd\n",
        "import matplotlib.pyplot as plt\n",
        "import seaborn as sns"
      ],
      "execution_count": 2,
      "outputs": [
        {
          "output_type": "stream",
          "text": [
            "/usr/local/lib/python3.6/dist-packages/statsmodels/tools/_testing.py:19: FutureWarning: pandas.util.testing is deprecated. Use the functions in the public API at pandas.testing instead.\n",
            "  import pandas.util.testing as tm\n"
          ],
          "name": "stderr"
        }
      ]
    },
    {
      "cell_type": "code",
      "metadata": {
        "id": "uhuNmpDyI4tU",
        "colab_type": "code",
        "colab": {
          "base_uri": "https://localhost:8080/",
          "height": 343
        },
        "outputId": "095b8c69-ef55-47e6-c252-01cf72a5a4c4"
      },
      "source": [
        "df = pd.read_csv(\"/content/Uber Request Data.csv.csv\")\n",
        "df.head(10)"
      ],
      "execution_count": 3,
      "outputs": [
        {
          "output_type": "execute_result",
          "data": {
            "text/html": [
              "<div>\n",
              "<style scoped>\n",
              "    .dataframe tbody tr th:only-of-type {\n",
              "        vertical-align: middle;\n",
              "    }\n",
              "\n",
              "    .dataframe tbody tr th {\n",
              "        vertical-align: top;\n",
              "    }\n",
              "\n",
              "    .dataframe thead th {\n",
              "        text-align: right;\n",
              "    }\n",
              "</style>\n",
              "<table border=\"1\" class=\"dataframe\">\n",
              "  <thead>\n",
              "    <tr style=\"text-align: right;\">\n",
              "      <th></th>\n",
              "      <th>Request id</th>\n",
              "      <th>Pickup point</th>\n",
              "      <th>Driver id</th>\n",
              "      <th>Status</th>\n",
              "      <th>Request timestamp</th>\n",
              "      <th>Drop timestamp</th>\n",
              "    </tr>\n",
              "  </thead>\n",
              "  <tbody>\n",
              "    <tr>\n",
              "      <th>0</th>\n",
              "      <td>619</td>\n",
              "      <td>Airport</td>\n",
              "      <td>1.0</td>\n",
              "      <td>Trip Completed</td>\n",
              "      <td>11/7/2016 11:51</td>\n",
              "      <td>11/7/2016 13:00</td>\n",
              "    </tr>\n",
              "    <tr>\n",
              "      <th>1</th>\n",
              "      <td>867</td>\n",
              "      <td>Airport</td>\n",
              "      <td>1.0</td>\n",
              "      <td>Trip Completed</td>\n",
              "      <td>11/7/2016 17:57</td>\n",
              "      <td>11/7/2016 18:47</td>\n",
              "    </tr>\n",
              "    <tr>\n",
              "      <th>2</th>\n",
              "      <td>1807</td>\n",
              "      <td>City</td>\n",
              "      <td>1.0</td>\n",
              "      <td>Trip Completed</td>\n",
              "      <td>12/7/2016 9:17</td>\n",
              "      <td>12/7/2016 9:58</td>\n",
              "    </tr>\n",
              "    <tr>\n",
              "      <th>3</th>\n",
              "      <td>2532</td>\n",
              "      <td>Airport</td>\n",
              "      <td>1.0</td>\n",
              "      <td>Trip Completed</td>\n",
              "      <td>12/7/2016 21:08</td>\n",
              "      <td>12/7/2016 22:03</td>\n",
              "    </tr>\n",
              "    <tr>\n",
              "      <th>4</th>\n",
              "      <td>3112</td>\n",
              "      <td>City</td>\n",
              "      <td>1.0</td>\n",
              "      <td>Trip Completed</td>\n",
              "      <td>13-07-2016 08:33:16</td>\n",
              "      <td>13-07-2016 09:25:47</td>\n",
              "    </tr>\n",
              "    <tr>\n",
              "      <th>5</th>\n",
              "      <td>3879</td>\n",
              "      <td>Airport</td>\n",
              "      <td>1.0</td>\n",
              "      <td>Trip Completed</td>\n",
              "      <td>13-07-2016 21:57:28</td>\n",
              "      <td>13-07-2016 22:28:59</td>\n",
              "    </tr>\n",
              "    <tr>\n",
              "      <th>6</th>\n",
              "      <td>4270</td>\n",
              "      <td>Airport</td>\n",
              "      <td>1.0</td>\n",
              "      <td>Trip Completed</td>\n",
              "      <td>14-07-2016 06:15:32</td>\n",
              "      <td>14-07-2016 07:13:15</td>\n",
              "    </tr>\n",
              "    <tr>\n",
              "      <th>7</th>\n",
              "      <td>5510</td>\n",
              "      <td>Airport</td>\n",
              "      <td>1.0</td>\n",
              "      <td>Trip Completed</td>\n",
              "      <td>15-07-2016 05:11:52</td>\n",
              "      <td>15-07-2016 06:07:52</td>\n",
              "    </tr>\n",
              "    <tr>\n",
              "      <th>8</th>\n",
              "      <td>6248</td>\n",
              "      <td>City</td>\n",
              "      <td>1.0</td>\n",
              "      <td>Trip Completed</td>\n",
              "      <td>15-07-2016 17:57:27</td>\n",
              "      <td>15-07-2016 18:50:51</td>\n",
              "    </tr>\n",
              "    <tr>\n",
              "      <th>9</th>\n",
              "      <td>267</td>\n",
              "      <td>City</td>\n",
              "      <td>2.0</td>\n",
              "      <td>Trip Completed</td>\n",
              "      <td>11/7/2016 6:46</td>\n",
              "      <td>11/7/2016 7:25</td>\n",
              "    </tr>\n",
              "  </tbody>\n",
              "</table>\n",
              "</div>"
            ],
            "text/plain": [
              "   Request id Pickup point  ...    Request timestamp       Drop timestamp\n",
              "0         619      Airport  ...      11/7/2016 11:51      11/7/2016 13:00\n",
              "1         867      Airport  ...      11/7/2016 17:57      11/7/2016 18:47\n",
              "2        1807         City  ...       12/7/2016 9:17       12/7/2016 9:58\n",
              "3        2532      Airport  ...      12/7/2016 21:08      12/7/2016 22:03\n",
              "4        3112         City  ...  13-07-2016 08:33:16  13-07-2016 09:25:47\n",
              "5        3879      Airport  ...  13-07-2016 21:57:28  13-07-2016 22:28:59\n",
              "6        4270      Airport  ...  14-07-2016 06:15:32  14-07-2016 07:13:15\n",
              "7        5510      Airport  ...  15-07-2016 05:11:52  15-07-2016 06:07:52\n",
              "8        6248         City  ...  15-07-2016 17:57:27  15-07-2016 18:50:51\n",
              "9         267         City  ...       11/7/2016 6:46       11/7/2016 7:25\n",
              "\n",
              "[10 rows x 6 columns]"
            ]
          },
          "metadata": {
            "tags": []
          },
          "execution_count": 3
        }
      ]
    },
    {
      "cell_type": "code",
      "metadata": {
        "id": "7UHbSR8RI4tZ",
        "colab_type": "code",
        "colab": {
          "base_uri": "https://localhost:8080/",
          "height": 34
        },
        "outputId": "c587aaab-18ea-4142-fb7f-2389921739bc"
      },
      "source": [
        "df.shape"
      ],
      "execution_count": 4,
      "outputs": [
        {
          "output_type": "execute_result",
          "data": {
            "text/plain": [
              "(6745, 6)"
            ]
          },
          "metadata": {
            "tags": []
          },
          "execution_count": 4
        }
      ]
    },
    {
      "cell_type": "code",
      "metadata": {
        "id": "J3ZJ_E_BI4td",
        "colab_type": "code",
        "colab": {},
        "outputId": "1d16ac14-3edc-448b-c951-2616f199617d"
      },
      "source": [
        "# make sure that number of duplicate rows are zero\n",
        "\n",
        "sum(df.duplicated(subset = \"Request id\")) == 0"
      ],
      "execution_count": null,
      "outputs": [
        {
          "output_type": "execute_result",
          "data": {
            "text/plain": [
              "True"
            ]
          },
          "metadata": {
            "tags": []
          },
          "execution_count": 3
        }
      ]
    },
    {
      "cell_type": "markdown",
      "metadata": {
        "id": "queK9zX6I4tg",
        "colab_type": "text"
      },
      "source": [
        "**let's look at the dimensions of the dataframe**"
      ]
    },
    {
      "cell_type": "code",
      "metadata": {
        "id": "63Lha0GWI4th",
        "colab_type": "code",
        "colab": {},
        "outputId": "978e760c-43ac-4722-f3ce-ec6bd410d3e5"
      },
      "source": [
        "df.shape"
      ],
      "execution_count": null,
      "outputs": [
        {
          "output_type": "execute_result",
          "data": {
            "text/plain": [
              "(6745, 6)"
            ]
          },
          "metadata": {
            "tags": []
          },
          "execution_count": 4
        }
      ]
    },
    {
      "cell_type": "markdown",
      "metadata": {
        "id": "PPAuA_aaI4tk",
        "colab_type": "text"
      },
      "source": [
        "**check for NA values in dataset**"
      ]
    },
    {
      "cell_type": "code",
      "metadata": {
        "id": "7AYTt-d-I4tl",
        "colab_type": "code",
        "colab": {},
        "outputId": "7f9045a8-1235-44a1-ee33-14524b586c11"
      },
      "source": [
        "print (df.isnull().sum())  \n",
        "print (df.isnull().values.any())\n",
        "print (df.isnull().values.sum())"
      ],
      "execution_count": null,
      "outputs": [
        {
          "output_type": "stream",
          "text": [
            "Request id              0\n",
            "Pickup point            0\n",
            "Driver id            2650\n",
            "Status                  0\n",
            "Request timestamp       0\n",
            "Drop timestamp       3914\n",
            "dtype: int64\n",
            "True\n",
            "6564\n"
          ],
          "name": "stdout"
        }
      ]
    },
    {
      "cell_type": "markdown",
      "metadata": {
        "id": "r3GF_fkZI4to",
        "colab_type": "text"
      },
      "source": [
        "**checking the % of NAs columnwise**"
      ]
    },
    {
      "cell_type": "code",
      "metadata": {
        "id": "HZZrlGfMI4tp",
        "colab_type": "code",
        "colab": {},
        "outputId": "d346bc35-7588-4953-9a46-c17b94cd79ea"
      },
      "source": [
        "df.isnull().sum()*100/df.shape[0] "
      ],
      "execution_count": null,
      "outputs": [
        {
          "output_type": "execute_result",
          "data": {
            "text/plain": [
              "Request id            0.000000\n",
              "Pickup point          0.000000\n",
              "Driver id            39.288362\n",
              "Status                0.000000\n",
              "Request timestamp     0.000000\n",
              "Drop timestamp       58.028169\n",
              "dtype: float64"
            ]
          },
          "metadata": {
            "tags": []
          },
          "execution_count": 6
        }
      ]
    },
    {
      "cell_type": "markdown",
      "metadata": {
        "id": "68MoQHlGI4ts",
        "colab_type": "text"
      },
      "source": [
        "**check for NA values in each columns except \"Driver id\" and \"Drop timestamp\" (Cross Verification)**"
      ]
    },
    {
      "cell_type": "code",
      "metadata": {
        "id": "bbfCbCxMI4tt",
        "colab_type": "code",
        "colab": {},
        "outputId": "ce9cd09e-67c7-441a-f7e0-2d701bd7bd3b"
      },
      "source": [
        "print (df['Request id'].isnull().values.any()) \n",
        "print (df['Request id'].isnull().values.sum())"
      ],
      "execution_count": null,
      "outputs": [
        {
          "output_type": "stream",
          "text": [
            "False\n",
            "0\n"
          ],
          "name": "stdout"
        }
      ]
    },
    {
      "cell_type": "code",
      "metadata": {
        "id": "PpP5Ka4oI4tw",
        "colab_type": "code",
        "colab": {},
        "outputId": "726fc630-ee3c-4590-b79c-3a33843ee9f8"
      },
      "source": [
        "print (df['Pickup point'].isnull().values.any())\n",
        "print (df['Pickup point'].isnull().values.sum())"
      ],
      "execution_count": null,
      "outputs": [
        {
          "output_type": "stream",
          "text": [
            "False\n",
            "0\n"
          ],
          "name": "stdout"
        }
      ]
    },
    {
      "cell_type": "code",
      "metadata": {
        "id": "lLbUXj5qI4tz",
        "colab_type": "code",
        "colab": {},
        "outputId": "7aba3465-ef85-4c8e-d24f-5ef895b4de47"
      },
      "source": [
        "print (df['Status'].isnull().values.any())\n",
        "print (df['Status'].isnull().values.sum())"
      ],
      "execution_count": null,
      "outputs": [
        {
          "output_type": "stream",
          "text": [
            "False\n",
            "0\n"
          ],
          "name": "stdout"
        }
      ]
    },
    {
      "cell_type": "code",
      "metadata": {
        "id": "pzF_hTHBI4t1",
        "colab_type": "code",
        "colab": {},
        "outputId": "49e21558-7107-4ecb-e667-91252bfa5bd1"
      },
      "source": [
        "print (df['Request timestamp'].isnull().values.any())\n",
        "print (df['Request timestamp'].isnull().values.sum())"
      ],
      "execution_count": null,
      "outputs": [
        {
          "output_type": "stream",
          "text": [
            "False\n",
            "0\n"
          ],
          "name": "stdout"
        }
      ]
    },
    {
      "cell_type": "markdown",
      "metadata": {
        "id": "lLe43Dm7I4t4",
        "colab_type": "text"
      },
      "source": [
        "**convert 'Request timestamp' column to datetime object**"
      ]
    },
    {
      "cell_type": "code",
      "metadata": {
        "id": "XS-zvRsjI4t5",
        "colab_type": "code",
        "colab": {}
      },
      "source": [
        "df[\"Request timestamp\"] = df[\"Request timestamp\"].astype(str)\n",
        "df['Request timestamp'] = df['Request timestamp'].str.replace(\"/\", \"-\")\n",
        "df['Request timestamp'] = pd.to_datetime(df[\"Request timestamp\"], dayfirst=True)"
      ],
      "execution_count": null,
      "outputs": []
    },
    {
      "cell_type": "code",
      "metadata": {
        "id": "6iwtJ0AzI4t7",
        "colab_type": "code",
        "colab": {}
      },
      "source": [
        "# convert 'Drop timestamp' column to datetime object\n",
        "\n",
        "df[\"Drop timestamp\"] = df[\"Drop timestamp\"].astype(str)\n",
        "df['Drop timestamp'] = df['Drop timestamp'].str.replace(\"/\", \"-\")\n",
        "df['Drop timestamp'] = pd.to_datetime(df[\"Drop timestamp\"], dayfirst=True)"
      ],
      "execution_count": null,
      "outputs": []
    },
    {
      "cell_type": "code",
      "metadata": {
        "id": "yQAQGhn_I4t-",
        "colab_type": "code",
        "colab": {},
        "outputId": "e4325c24-3850-479c-f3c0-c0d7bd0b9566"
      },
      "source": [
        "df.info()"
      ],
      "execution_count": null,
      "outputs": [
        {
          "output_type": "stream",
          "text": [
            "<class 'pandas.core.frame.DataFrame'>\n",
            "RangeIndex: 6745 entries, 0 to 6744\n",
            "Data columns (total 6 columns):\n",
            "Request id           6745 non-null int64\n",
            "Pickup point         6745 non-null object\n",
            "Driver id            4095 non-null float64\n",
            "Status               6745 non-null object\n",
            "Request timestamp    6745 non-null datetime64[ns]\n",
            "Drop timestamp       2831 non-null datetime64[ns]\n",
            "dtypes: datetime64[ns](2), float64(1), int64(1), object(2)\n",
            "memory usage: 316.3+ KB\n"
          ],
          "name": "stdout"
        }
      ]
    },
    {
      "cell_type": "code",
      "metadata": {
        "id": "C5KY9QudI4uA",
        "colab_type": "code",
        "colab": {}
      },
      "source": [
        "# extract the hour from the request time\n",
        "\n",
        "req_hour = df[\"Request timestamp\"].dt.hour\n",
        "req_hour.head()\n",
        "req_hour.value_counts()\n",
        "df[\"req_hour\"] = req_hour"
      ],
      "execution_count": null,
      "outputs": []
    },
    {
      "cell_type": "code",
      "metadata": {
        "id": "q0tYhOhEI4uD",
        "colab_type": "code",
        "colab": {}
      },
      "source": [
        "#extract the day from the request time\n",
        "\n",
        "req_day = df[\"Request timestamp\"].dt.day\n",
        "req_day.head()\n",
        "req_day.value_counts()\n",
        "df[\"req_day\"] = req_day"
      ],
      "execution_count": null,
      "outputs": []
    },
    {
      "cell_type": "code",
      "metadata": {
        "id": "WEubnmjyI4uF",
        "colab_type": "code",
        "colab": {},
        "outputId": "e1dac17b-c8fb-4213-f8bf-72ab4cfa4a5c"
      },
      "source": [
        "# factor plot of hour and day w.r.t. status\n",
        "\n",
        "sns.factorplot(x = \"req_hour\", hue = \"Status\", row = \"req_day\", data = df, kind = \"count\")"
      ],
      "execution_count": null,
      "outputs": [
        {
          "output_type": "stream",
          "text": [
            "C:\\Users\\Prashant\\Anaconda3\\lib\\site-packages\\seaborn\\categorical.py:3666: UserWarning: The `factorplot` function has been renamed to `catplot`. The original name will be removed in a future release. Please update your code. Note that the default `kind` in `factorplot` (`'point'`) has changed `'strip'` in `catplot`.\n",
            "  warnings.warn(msg)\n"
          ],
          "name": "stderr"
        },
        {
          "output_type": "execute_result",
          "data": {
            "text/plain": [
              "<seaborn.axisgrid.FacetGrid at 0x195e0a69308>"
            ]
          },
          "metadata": {
            "tags": []
          },
          "execution_count": 16
        },
        {
          "output_type": "display_data",
          "data": {
            "image/png": "[encoded data removed]",
            "text/plain": [
              "<Figure size 483.5x1800 with 5 Axes>"
            ]
          },
          "metadata": {
            "tags": [],
            "needs_background": "light"
          }
        }
      ]
    },
    {
      "cell_type": "code",
      "metadata": {
        "id": "UST8_dbXI4uI",
        "colab_type": "code",
        "colab": {},
        "outputId": "47277946-0ece-4da7-ad8f-495dcfe56e04"
      },
      "source": [
        "# factor plot of hour and day w.r.t. pickup point\n",
        "sns.factorplot(x = \"req_hour\", hue = \"Pickup point\", row = \"req_day\", data = df, kind = \"count\")"
      ],
      "execution_count": null,
      "outputs": [
        {
          "output_type": "execute_result",
          "data": {
            "text/plain": [
              "<seaborn.axisgrid.FacetGrid at 0x195e0e99708>"
            ]
          },
          "metadata": {
            "tags": []
          },
          "execution_count": 17
        },
        {
          "output_type": "display_data",
          "data": {
            "image/png": "[encoded data removed]",
            "text/plain": [
              "<Figure size 430.125x1800 with 5 Axes>"
            ]
          },
          "metadata": {
            "tags": [],
            "needs_background": "light"
          }
        }
      ]
    },
    {
      "cell_type": "code",
      "metadata": {
        "id": "C_bO2hk5I4uK",
        "colab_type": "code",
        "colab": {},
        "outputId": "85d0615a-27c2-4350-f09c-94e3cc42ea5f"
      },
      "source": [
        "# aggregate count plot for all days w.r.t. to Pickup point\n",
        "\n",
        "sns.factorplot(x = \"req_hour\", hue = \"Pickup point\", data = df, kind = \"count\")"
      ],
      "execution_count": null,
      "outputs": [
        {
          "output_type": "execute_result",
          "data": {
            "text/plain": [
              "<seaborn.axisgrid.FacetGrid at 0x195e10eed48>"
            ]
          },
          "metadata": {
            "tags": []
          },
          "execution_count": 18
        },
        {
          "output_type": "display_data",
          "data": {
            "image/png": "[encoded data removed]",
            "text/plain": [
              "<Figure size 430.125x360 with 1 Axes>"
            ]
          },
          "metadata": {
            "tags": [],
            "needs_background": "light"
          }
        }
      ]
    },
    {
      "cell_type": "code",
      "metadata": {
        "id": "yJwuKFEfI4uN",
        "colab_type": "code",
        "colab": {}
      },
      "source": [
        "# creating a time slot for various time period of day\n",
        "\n",
        "def time_period(x):\n",
        "    'divide the time of the day into four categories'\n",
        "    if x < 5:\n",
        "        return \"Pre_Morning\"\n",
        "    elif 5 <= x < 10:\n",
        "        return \"Morning_Rush\"\n",
        "    elif 10 <= x < 17:\n",
        "        return \"Day_Time\"\n",
        "    elif 17 <= x < 22:\n",
        "        return \"Evening_Rush\"\n",
        "    else:\n",
        "        return \"Late_Night\"\n",
        "\n",
        "df['time_slot'] = df.req_hour.apply(lambda x: time_period(x))"
      ],
      "execution_count": null,
      "outputs": []
    },
    {
      "cell_type": "code",
      "metadata": {
        "id": "s_npG9-II4uP",
        "colab_type": "code",
        "colab": {},
        "outputId": "93ec5699-4ddd-48e3-eb8e-ba5ceade4721"
      },
      "source": [
        "df.time_slot.value_counts()"
      ],
      "execution_count": null,
      "outputs": [
        {
          "output_type": "execute_result",
          "data": {
            "text/plain": [
              "Evening_Rush    2342\n",
              "Morning_Rush    2103\n",
              "Day_Time        1224\n",
              "Pre_Morning      578\n",
              "Late_Night       498\n",
              "Name: time_slot, dtype: int64"
            ]
          },
          "metadata": {
            "tags": []
          },
          "execution_count": 20
        }
      ]
    },
    {
      "cell_type": "code",
      "metadata": {
        "id": "YtkcMZuVI4uS",
        "colab_type": "code",
        "colab": {},
        "outputId": "1d4cbf33-68c2-4dcb-ceec-dd2adaa998d3"
      },
      "source": [
        "# another way to look at the trips made in each time slot\n",
        "\n",
        "\n",
        "Pre_Morning = print (df.time_slot[df.time_slot == \"Pre_Morning\"].value_counts())\n",
        "Morning_Rush = print (df.time_slot[df.time_slot == \"Morning_Rush\"].value_counts())\n",
        "Day_Time = print (df.time_slot[df.time_slot == \"Day_Time\"].value_counts())\n",
        "Evening_Rush = print (df.time_slot[df.time_slot == \"Evening_Rush\"].value_counts())\n",
        "Late_Night = print (df.time_slot[df.time_slot == \"Late_Night\"].value_counts())"
      ],
      "execution_count": null,
      "outputs": [
        {
          "output_type": "stream",
          "text": [
            "Pre_Morning    578\n",
            "Name: time_slot, dtype: int64\n",
            "Morning_Rush    2103\n",
            "Name: time_slot, dtype: int64\n",
            "Day_Time    1224\n",
            "Name: time_slot, dtype: int64\n",
            "Evening_Rush    2342\n",
            "Name: time_slot, dtype: int64\n",
            "Late_Night    498\n",
            "Name: time_slot, dtype: int64\n"
          ],
          "name": "stdout"
        }
      ]
    },
    {
      "cell_type": "code",
      "metadata": {
        "id": "aTb6RKE5I4uU",
        "colab_type": "code",
        "colab": {},
        "outputId": "f6cb9ca1-1762-4449-9ed8-15fb238d6c3f"
      },
      "source": [
        "# plot time slot w.r.t. status and identify the most critical problems before Uber\n",
        "\n",
        "\n",
        "sns.countplot(x = \"time_slot\", hue = \"Status\", data = df)"
      ],
      "execution_count": null,
      "outputs": [
        {
          "output_type": "execute_result",
          "data": {
            "text/plain": [
              "<matplotlib.axes._subplots.AxesSubplot at 0x195e20df188>"
            ]
          },
          "metadata": {
            "tags": []
          },
          "execution_count": 22
        },
        {
          "output_type": "display_data",
          "data": {
            "image/png": "[encoded data removed]",
            "text/plain": [
              "<Figure size 432x288 with 1 Axes>"
            ]
          },
          "metadata": {
            "tags": [],
            "needs_background": "light"
          }
        }
      ]
    },
    {
      "cell_type": "markdown",
      "metadata": {
        "id": "070ezhSXI4uX",
        "colab_type": "text"
      },
      "source": [
        "#### Maximum number of Cabs are Not Available in \"Evening_Rush time\" & Max number of Cabs are cancelled in \"Morning_Rush time\""
      ]
    },
    {
      "cell_type": "code",
      "metadata": {
        "id": "EtF6Kl6BI4uX",
        "colab_type": "code",
        "colab": {},
        "outputId": "5d610619-72f3-4767-82c7-a6a9b8bf243d"
      },
      "source": [
        "# as you can see in the above plot the higest number of cancellations are in the \"Morning Rush\" time slot\n",
        "\n",
        "\n",
        "df_morning_rush = df[df.time_slot == \"Morning_Rush\"]\n",
        "\n",
        "sns.countplot(x = \"Pickup point\", hue = \"Status\", data = df_morning_rush)"
      ],
      "execution_count": null,
      "outputs": [
        {
          "output_type": "execute_result",
          "data": {
            "text/plain": [
              "<matplotlib.axes._subplots.AxesSubplot at 0x195e2128988>"
            ]
          },
          "metadata": {
            "tags": []
          },
          "execution_count": 23
        },
        {
          "output_type": "display_data",
          "data": {
            "image/png": "[encoded data removed]",
            "text/plain": [
              "<Figure size 432x288 with 1 Axes>"
            ]
          },
          "metadata": {
            "tags": [],
            "needs_background": "light"
          }
        }
      ]
    },
    {
      "cell_type": "markdown",
      "metadata": {
        "id": "SOGek6NFI4uc",
        "colab_type": "text"
      },
      "source": [
        "## More cabs are Cancelled from 'City to Airport\" in \"Morning_Rush time\""
      ]
    },
    {
      "cell_type": "code",
      "metadata": {
        "id": "RNYawEFgI4uc",
        "colab_type": "code",
        "colab": {},
        "outputId": "2347af3a-cb95-454f-d0bd-337810784c34"
      },
      "source": [
        "# severity of problem by location and their count (cancellation of cab as per the pickup location @Morning Rush)\n",
        "\n",
        "\n",
        "df_airport_cancelled  = df_morning_rush.loc[(df_morning_rush[\"Pickup point\"] == \"Airport\") & (df_morning_rush[\"Status\"] == \"Cancelled\")]\n",
        "len(df_airport_cancelled.index)\n"
      ],
      "execution_count": null,
      "outputs": [
        {
          "output_type": "execute_result",
          "data": {
            "text/plain": [
              "23"
            ]
          },
          "metadata": {
            "tags": []
          },
          "execution_count": 24
        }
      ]
    },
    {
      "cell_type": "code",
      "metadata": {
        "id": "kedZPnhAI4ug",
        "colab_type": "code",
        "colab": {},
        "outputId": "0f6b9043-199a-4fc8-fce8-d745b0170d45"
      },
      "source": [
        "df_city_cancelled = df_morning_rush.loc[(df_morning_rush[\"Pickup point\"] == \"City\") & (df_morning_rush[\"Status\"] == \"Cancelled\")]\n",
        "len(df_city_cancelled.index)"
      ],
      "execution_count": null,
      "outputs": [
        {
          "output_type": "execute_result",
          "data": {
            "text/plain": [
              "820"
            ]
          },
          "metadata": {
            "tags": []
          },
          "execution_count": 25
        }
      ]
    },
    {
      "cell_type": "code",
      "metadata": {
        "id": "pEEqZnWCI4uj",
        "colab_type": "code",
        "colab": {},
        "outputId": "f91fc4dc-c824-40dd-e977-2906414a668d"
      },
      "source": [
        "# let's look at the supply and demand in morning rush hour in the city\n",
        "\n",
        "df_city_completed_morning_rush = df_morning_rush.loc[(df_morning_rush[\"Pickup point\"] == \"City\") & (df_morning_rush[\"Status\"] == \"Trip Completed\")]\n",
        "len(df_city_completed_morning_rush.index)"
      ],
      "execution_count": null,
      "outputs": [
        {
          "output_type": "execute_result",
          "data": {
            "text/plain": [
              "472"
            ]
          },
          "metadata": {
            "tags": []
          },
          "execution_count": 26
        }
      ]
    },
    {
      "cell_type": "code",
      "metadata": {
        "id": "IG1lAhR1I4ul",
        "colab_type": "code",
        "colab": {},
        "outputId": "73845e12-3db5-4607-a8ec-4c1f067021e0"
      },
      "source": [
        "df_city_morning_rush  = df_morning_rush.loc[(df_morning_rush[\"Pickup point\"] == \"City\")]\n",
        "len(df_city_morning_rush.index)"
      ],
      "execution_count": null,
      "outputs": [
        {
          "output_type": "execute_result",
          "data": {
            "text/plain": [
              "1677"
            ]
          },
          "metadata": {
            "tags": []
          },
          "execution_count": 27
        }
      ]
    },
    {
      "cell_type": "code",
      "metadata": {
        "id": "E3-KRpTbI4uo",
        "colab_type": "code",
        "colab": {},
        "outputId": "1660a199-a38d-45fa-f3cd-1184f4c23e75"
      },
      "source": [
        "# let's look at the supply and demand in morning rush hour at the airport\n",
        "\n",
        "df_airport_completed_morning_rush = df_morning_rush.loc[(df_morning_rush[\"Pickup point\"] == \"Airport\") & (df_morning_rush[\"Status\"] == \"Trip Completed\")]\n",
        "len(df_airport_completed_morning_rush.index)"
      ],
      "execution_count": null,
      "outputs": [
        {
          "output_type": "execute_result",
          "data": {
            "text/plain": [
              "382"
            ]
          },
          "metadata": {
            "tags": []
          },
          "execution_count": 28
        }
      ]
    },
    {
      "cell_type": "code",
      "metadata": {
        "id": "TziJV_TyI4ur",
        "colab_type": "code",
        "colab": {},
        "outputId": "7c612136-f86d-4139-f417-81a227ebb961"
      },
      "source": [
        "df_airport_morning_rush  = df_morning_rush.loc[(df_morning_rush[\"Pickup point\"] == \"Airport\")]\n",
        "len(df_airport_morning_rush.index)"
      ],
      "execution_count": null,
      "outputs": [
        {
          "output_type": "execute_result",
          "data": {
            "text/plain": [
              "426"
            ]
          },
          "metadata": {
            "tags": []
          },
          "execution_count": 29
        }
      ]
    },
    {
      "cell_type": "code",
      "metadata": {
        "id": "5gbb8m3iI4uu",
        "colab_type": "code",
        "colab": {},
        "outputId": "5ee55e03-4659-4ac0-e991-d5e36214d915"
      },
      "source": [
        "# let's look at the supply and demand in evening rush hour\n",
        "\n",
        "df_evening_rush = df[df.time_slot == \"Evening_Rush\"]\n",
        "sns.countplot(x = \"Pickup point\", hue = \"Status\", data = df_evening_rush)"
      ],
      "execution_count": null,
      "outputs": [
        {
          "output_type": "execute_result",
          "data": {
            "text/plain": [
              "<matplotlib.axes._subplots.AxesSubplot at 0x195e20290c8>"
            ]
          },
          "metadata": {
            "tags": []
          },
          "execution_count": 30
        },
        {
          "output_type": "display_data",
          "data": {
            "image/png": "[encoded data removed]",
            "text/plain": [
              "<Figure size 432x288 with 1 Axes>"
            ]
          },
          "metadata": {
            "tags": [],
            "needs_background": "light"
          }
        }
      ]
    },
    {
      "cell_type": "markdown",
      "metadata": {
        "id": "8v5hY3ynI4ux",
        "colab_type": "text"
      },
      "source": [
        "## More Cabs are Not Avialable from \"Airport-to-City\" at \"Evening_Rush time\""
      ]
    },
    {
      "cell_type": "code",
      "metadata": {
        "id": "0YPVbwsvI4ux",
        "colab_type": "code",
        "colab": {},
        "outputId": "2fe6dcf4-1ec2-4328-bccf-429114ac66b8"
      },
      "source": [
        "# let's look at the supply and demand in evening rush hour in the city\n",
        "\n",
        "\n",
        "df_city_completed_evening_rush = df_evening_rush.loc[(df_evening_rush[\"Pickup point\"] == \"City\") & (df_evening_rush[\"Status\"] == \"Trip Completed\")]\n",
        "len(df_city_completed_evening_rush.index)"
      ],
      "execution_count": null,
      "outputs": [
        {
          "output_type": "execute_result",
          "data": {
            "text/plain": [
              "411"
            ]
          },
          "metadata": {
            "tags": []
          },
          "execution_count": 31
        }
      ]
    },
    {
      "cell_type": "code",
      "metadata": {
        "id": "0hG-S-QvI4u0",
        "colab_type": "code",
        "colab": {},
        "outputId": "41e9ad93-eb97-4545-f438-9fa85accade6"
      },
      "source": [
        "df_city_evening_rush  = df_evening_rush.loc[(df_evening_rush[\"Pickup point\"] == \"City\")]\n",
        "len(df_city_evening_rush.index)"
      ],
      "execution_count": null,
      "outputs": [
        {
          "output_type": "execute_result",
          "data": {
            "text/plain": [
              "542"
            ]
          },
          "metadata": {
            "tags": []
          },
          "execution_count": 32
        }
      ]
    },
    {
      "cell_type": "code",
      "metadata": {
        "id": "ApJeGxzNI4u2",
        "colab_type": "code",
        "colab": {},
        "outputId": "f0995952-1f19-4e52-b9d7-87081dea60bb"
      },
      "source": [
        "# let's look at the supply and demand in evening rush hour from the airport\n",
        "\n",
        "\n",
        "df_airport_completed_evening_rush = df_evening_rush.loc[(df_evening_rush[\"Pickup point\"] == \"Airport\") & (df_evening_rush[\"Status\"] == \"Trip Completed\")]\n",
        "len(df_airport_completed_evening_rush.index)"
      ],
      "execution_count": null,
      "outputs": [
        {
          "output_type": "execute_result",
          "data": {
            "text/plain": [
              "373"
            ]
          },
          "metadata": {
            "tags": []
          },
          "execution_count": 33
        }
      ]
    },
    {
      "cell_type": "code",
      "metadata": {
        "id": "J_q7uYk9I4u5",
        "colab_type": "code",
        "colab": {},
        "outputId": "3893837f-a78c-4ba2-cb9b-c1973e72a689"
      },
      "source": [
        "df_airport_evening_rush  = df_evening_rush.loc[(df_evening_rush[\"Pickup point\"] == \"Airport\")]\n",
        "len(df_airport_evening_rush.index)"
      ],
      "execution_count": null,
      "outputs": [
        {
          "output_type": "execute_result",
          "data": {
            "text/plain": [
              "1800"
            ]
          },
          "metadata": {
            "tags": []
          },
          "execution_count": 34
        }
      ]
    },
    {
      "cell_type": "code",
      "metadata": {
        "id": "CvlEddBgI4u8",
        "colab_type": "code",
        "colab": {},
        "outputId": "f9035f9b-b16d-4a79-cae9-26e542be8f64"
      },
      "source": [
        "# let's look at the severity problem (of demand and supply) at each location by looking at cancellation of cab in each of the pickup location in evening rush\n",
        "\n",
        "df_airport_cancelled_evening_rush  = df_evening_rush.loc[(df_evening_rush[\"Pickup point\"] == \"Airport\") & (df_evening_rush[\"Status\"] == \"Cancelled\")]\n",
        "len(df_airport_cancelled_evening_rush.index)"
      ],
      "execution_count": null,
      "outputs": [
        {
          "output_type": "execute_result",
          "data": {
            "text/plain": [
              "106"
            ]
          },
          "metadata": {
            "tags": []
          },
          "execution_count": 35
        }
      ]
    },
    {
      "cell_type": "code",
      "metadata": {
        "id": "XydVDsraI4u-",
        "colab_type": "code",
        "colab": {},
        "outputId": "5e9a97ae-c5e5-4c36-fad8-0a987cbe5ff3"
      },
      "source": [
        "df_city_cancelled_evening_rush = df_evening_rush.loc[(df_evening_rush[\"Pickup point\"] == \"City\") & (df_evening_rush[\"Status\"] == \"Cancelled\")]\n",
        "len(df_city_cancelled_evening_rush.index)"
      ],
      "execution_count": null,
      "outputs": [
        {
          "output_type": "execute_result",
          "data": {
            "text/plain": [
              "60"
            ]
          },
          "metadata": {
            "tags": []
          },
          "execution_count": 36
        }
      ]
    },
    {
      "cell_type": "code",
      "metadata": {
        "id": "_z37cVzNI4vB",
        "colab_type": "code",
        "colab": {},
        "outputId": "791fd415-8511-414c-e43d-c9f84e2244de"
      },
      "source": [
        "# severity of problem by location in Morning Rush (Unavailability of Cars)\n",
        "\n",
        "df_airport_unavailable_morning_rush  = df_morning_rush.loc[(df_morning_rush[\"Pickup point\"] == \"Airport\") & (df_morning_rush[\"Status\"] == \"No Cars Available\")]\n",
        "len(df_airport_unavailable_morning_rush.index)"
      ],
      "execution_count": null,
      "outputs": [
        {
          "output_type": "execute_result",
          "data": {
            "text/plain": [
              "21"
            ]
          },
          "metadata": {
            "tags": []
          },
          "execution_count": 37
        }
      ]
    },
    {
      "cell_type": "code",
      "metadata": {
        "id": "pfcSeBNsI4vD",
        "colab_type": "code",
        "colab": {},
        "outputId": "ef7c3a0e-53b3-4a36-a66d-e011fc2a6dee"
      },
      "source": [
        "df_city_unavailable_morning_rush  = df_morning_rush.loc[(df_morning_rush[\"Pickup point\"] == \"City\") & (df_morning_rush[\"Status\"] == \"No Cars Available\")]\n",
        "len(df_city_unavailable_morning_rush.index)"
      ],
      "execution_count": null,
      "outputs": [
        {
          "output_type": "execute_result",
          "data": {
            "text/plain": [
              "385"
            ]
          },
          "metadata": {
            "tags": []
          },
          "execution_count": 38
        }
      ]
    },
    {
      "cell_type": "code",
      "metadata": {
        "id": "42KMaao3I4vF",
        "colab_type": "code",
        "colab": {},
        "outputId": "99ee7359-88e9-4ef6-9dea-ad95d0ba4987"
      },
      "source": [
        "# severity of problem by location in Evening Rush (Unavailability of Cars)\n",
        "\n",
        "df_airport_unavailable_evening_rush  = df_evening_rush.loc[(df_evening_rush[\"Pickup point\"] == \"Airport\") & (df_evening_rush[\"Status\"] == \"No Cars Available\")]\n",
        "len(df_airport_unavailable_evening_rush.index)"
      ],
      "execution_count": null,
      "outputs": [
        {
          "output_type": "execute_result",
          "data": {
            "text/plain": [
              "1321"
            ]
          },
          "metadata": {
            "tags": []
          },
          "execution_count": 39
        }
      ]
    },
    {
      "cell_type": "code",
      "metadata": {
        "id": "7nL_cON8I4vJ",
        "colab_type": "code",
        "colab": {},
        "outputId": "802de588-59b4-46df-f8e7-a8a75dde99c9"
      },
      "source": [
        "df_city_unavailable_evening_rush  = df_evening_rush.loc[(df_evening_rush[\"Pickup point\"] == \"City\") & (df_evening_rush[\"Status\"] == \"No Cars Available\")]\n",
        "len(df_city_unavailable_evening_rush.index)"
      ],
      "execution_count": null,
      "outputs": [
        {
          "output_type": "execute_result",
          "data": {
            "text/plain": [
              "71"
            ]
          },
          "metadata": {
            "tags": []
          },
          "execution_count": 40
        }
      ]
    },
    {
      "cell_type": "code",
      "metadata": {
        "id": "C00fsAD3I4vL",
        "colab_type": "code",
        "colab": {}
      },
      "source": [
        "# Let's create pie charts instead of a count plots\n",
        "\n",
        "def pie_chart(dataframe):\n",
        "    \"\"\"\n",
        "    creates a pie chart\n",
        "    input: dataframe with a 'category' as index and a numerical column\n",
        "    output: pie chart\n",
        "    \"\"\"\n",
        "    labels = dataframe.index.values\n",
        "    sizes = dataframe['Status'].values\n",
        "        \n",
        "    fig1, ax1 = plt.subplots()\n",
        "    ax1.pie(sizes, labels=labels, autopct='%1.1f%%', shadow=True, startangle=90)\n",
        "    ax1.axis('equal')  # Equal aspect ratio ensures that pie is drawn as a circle.\n",
        "    plt.show()"
      ],
      "execution_count": null,
      "outputs": []
    },
    {
      "cell_type": "code",
      "metadata": {
        "id": "NxFjB0JUI4vP",
        "colab_type": "code",
        "colab": {},
        "outputId": "07fe9bb8-39e8-4d82-c1a3-a3705e807c4a"
      },
      "source": [
        "# percentage breakup of status on the basis of pickup location\n",
        "\n",
        "# Status of trips @ Morning Rush where pickup point is City\n",
        "\n",
        "df_city = df.loc[(df[\"Pickup point\"] == \"City\") & (df.time_slot == \"Morning_Rush\")]\n",
        "df_city_count = pd.DataFrame(df_city.Status.value_counts())\n",
        "pie_chart(df_city_count)"
      ],
      "execution_count": null,
      "outputs": [
        {
          "output_type": "display_data",
          "data": {
            "image/png": "[encoded data removed]",
            "text/plain": [
              "<Figure size 432x288 with 1 Axes>"
            ]
          },
          "metadata": {
            "tags": []
          }
        }
      ]
    },
    {
      "cell_type": "code",
      "metadata": {
        "id": "1_LkLk1UI4vR",
        "colab_type": "code",
        "colab": {},
        "outputId": "9f11082e-915e-4c42-88e5-205e3fc2d3b4"
      },
      "source": [
        "# Status of trips @ Evening Rush where pickup point is Airport\n",
        "\n",
        "df_airport = df.loc[(df[\"Pickup point\"] == \"Airport\") & (df.time_slot == \"Evening_Rush\")] \n",
        "df_airport_count = pd.DataFrame(df_airport.Status.value_counts())\n",
        "pie_chart(df_airport_count)"
      ],
      "execution_count": null,
      "outputs": [
        {
          "output_type": "display_data",
          "data": {
            "image/png": "[encoded data removed]",
            "text/plain": [
              "<Figure size 432x288 with 1 Axes>"
            ]
          },
          "metadata": {
            "tags": []
          }
        }
      ]
    },
    {
      "cell_type": "code",
      "metadata": {
        "id": "3vdB593RI4vU",
        "colab_type": "code",
        "colab": {}
      },
      "source": [
        ""
      ],
      "execution_count": null,
      "outputs": []
    },
    {
      "cell_type": "code",
      "metadata": {
        "id": "b6Re0RejI4vW",
        "colab_type": "code",
        "colab": {}
      },
      "source": [
        ""
      ],
      "execution_count": null,
      "outputs": []
    },
    {
      "cell_type": "code",
      "metadata": {
        "id": "do2N-sWTI4vY",
        "colab_type": "code",
        "colab": {}
      },
      "source": [
        ""
      ],
      "execution_count": null,
      "outputs": []
    },
    {
      "cell_type": "code",
      "metadata": {
        "id": "l7n7UpD0I4va",
        "colab_type": "code",
        "colab": {}
      },
      "source": [
        ""
      ],
      "execution_count": null,
      "outputs": []
    }
  ]
}